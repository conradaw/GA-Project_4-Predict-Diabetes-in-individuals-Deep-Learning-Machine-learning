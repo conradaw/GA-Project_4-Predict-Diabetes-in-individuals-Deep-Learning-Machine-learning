{
 "cells": [
  {
   "cell_type": "markdown",
   "metadata": {},
   "source": [
    "# DSI-SG-42 Capstone Project: Open-dialogue bot with counselling and SQL features\n",
    "\n",
    "The general data science process as follows:\n",
    "1. [Define the problem.](#1.-Define-the-problem.)\n",
    "2. [Define Scope of Chatbot.]()\n",
    "3. [Understand and Integrate all APIs (OpenAI, Whatsapp/Telegram API, Website APIs for scraping).]()\n",
    "4. [Obtain data for areas without API e.g. therapist scripts, SQL]()\n",
    "5. [Explore the data.]()\n",
    "6. [Model the data.]()\n",
    "7. [Integrate model and data into OpenAI.]()\n",
    "8. [Answer the problem.]()"
   ]
  },
  {
   "cell_type": "markdown",
   "metadata": {},
   "source": [
    "## 1. Define the problem\n",
    "---"
   ]
  },
  {
   "cell_type": "markdown",
   "metadata": {},
   "source": [
    "### **Background**\n",
    "\n",
    "In Singapore, a significant portion of the population under 40 years of age experiences heightened levels of loneliness and social isolation, with these feelings particularly acute among those aged 21 to 34. This demographic reports a preference for online communication over face-to-face interactions, often due to social anxiety and the pressure of societal expectations. These challenges are compounded in the workplace, where over half of the workforce struggles with trust and meaningful relationships, leading to further feelings of isolation and disconnection.\n",
    "\n",
    "The advent of open-dialogue chatbots, which can engage users in meaningful, empathetic conversations, presents a potential solution to these issues. By leveraging principles from psychology such as the Social Penetration Theory, which suggests that gradual and reciprocal sharing of personal information can deepen relationships, and Attachment Theory, which implies that secure relationships can be therapeutic, an open-dialogue chatbot could serve as a first step in alleviating loneliness. The chatbot could provide a non-judgmental, always-available platform for individuals to express themselves and practice social interactions, thereby reducing social anxiety and improving their ability to form deeper human connections.\n",
    "\n",
    "Such a chatbot could simulate empathetic and engaging conversations, offering both emotional support and practical advice for navigating social situations. It could also encourage users to explore their feelings in a safe environment, potentially making it easier for them to open up to others in real life. By addressing these psychological needs, the chatbot aims to reduce the loneliness epidemic among Singapore's younger population, improving their mental health and overall well-being.\n"
   ]
  },
  {
   "cell_type": "markdown",
   "metadata": {},
   "source": [
    "### **Problem Statement**\n",
    "\n",
    "Many chatbots struggle to maintain user engagement over time, which is essential for building a trusting relationship. Gaining user trust requires a careful approach to conversation that encourages openness without forcing intimacy. Users will be more likely to open up to entities they feel understand them on a personal level.\n",
    "\n",
    "This project aims to develop a chatbot that acts as a daily companion, engaging users with friendly, casual conversations and activities that encourage regular interaction, thereby laying the foundation for deeper emotional support. The chatbot will learn from each interaction to personalize conversations, making itself more relatable and trustworthy, which is crucial for eventual mental health counseling. The chatbot will use techniques from counseling psychology, like open-ended questions and reflective listening, to encourage users to share their feelings and experiences naturally over time.\n",
    "\n",
    "The chatbot will therefore serve as a conversational AI buddy by building long-term engagement through personalized interactions that will facilitate emotional disclosure.\n"
   ]
  },
  {
   "cell_type": "markdown",
   "metadata": {},
   "source": [
    "### **Persona**\n",
    "\n",
    "Wahan, female, 32 years old\n",
    "\n",
    "Marital status: Single\n",
    "\n",
    "Occupation: C-suite?\n",
    "\n",
    "Interests: Science Fiction Movies, Basketball, Reading News\n",
    "\n",
    "Technological Proficiency: High, comfortable with new technologies and apps\n",
    "\n",
    "Mental Health Background:\n",
    "\n",
    "Experiences moderate anxiety, particularly social anxiety.\n",
    "Reluctant to seek traditional therapy due to time constraints and a preference for managing issues independently.\n",
    "No official diagnosis of mental illness\n",
    "\n",
    "Scenario and Needs:\n",
    "\n",
    "Wahan often feels overwhelmed by the pressures of her job and the social expectations from her peers. She has a small, close-knit group of friends, but finds it hard to open up about her mental health struggles fearing judgment. Wahan is looking for a non-judgmental, always-available source of support to help manage her anxiety and occasional feelings of depression."
   ]
  },
  {
   "cell_type": "markdown",
   "metadata": {},
   "source": [
    "### **Sources**\n",
    "\n",
    "News Articles on Loneliness and Social Isolation in Singapore:\n",
    "\n",
    "1. Mothership - Discusses loneliness and social anxiety among Singaporeans aged 21-34. Read the article on [Mothership](https://mothership.sg/2024/01/ips-poll-young-singaporeans-loneliness/)\n",
    "2. HRD Asia - Discusses trust issues in workplace relationships in Singapore. Read the article on [HRD Asia](https://www.hcamag.com/asia/specialisation/employee-engagement/more-than-half-of-singapores-workers-struggle-with-trust-in-workplace-relationships/482416)\n",
    "3. TODAY Online - Covers social isolation and well-being among young people in Singapore. Read the article on [TODAY Online](https://www.todayonline.com/singapore/youth-social-isolation-loneliness-ips-survey-2350966)\n",
    "\n",
    "Psychological Theories Relevant to Chatbots and Social Interaction:\n",
    "\n",
    "1. Social Penetration Theory - This theory by Irwin Altman and Dalmas Taylor explains how relational closeness develops through the gradual process of self-disclosure. For an overview of this theory, a general psychology textbook or an educational website like Simply Psychology would be helpful.\n",
    "2. Interpersonal Deception Theory - Addresses the idea that truthful, transparent interactions often lead to stronger relationships.\n",
    "3. Attachment Theory in the context of human-computer interaction - Suggests that users can form attachments to machines, especially if they consistently meet the user’s needs for companionship and emotional support.\n",
    "\n",
    "These links and summaries provide an understanding the context of the problem statement and the psychological theories that support the use of a conversational AI to alleviate loneliness and improve social interactions.\n"
   ]
  },
  {
   "cell_type": "markdown",
   "metadata": {},
   "source": [
    "## 2. Define Scope of Chatbot\n",
    "---"
   ]
  },
  {
   "cell_type": "markdown",
   "metadata": {},
   "source": [
    "2.1 Objective\n",
    "\n",
    "Acts as a daily companion, engaging users with friendly, casual conversations and activities that encourage regular interaction, thereby laying the foundation for deeper emotional support. The chatbot will learn from each interaction to personalize conversations, making itself more relatable and trustworthy, which is crucial for eventual mental health counseling. The chatbot will use techniques from counseling psychology, like open-ended questions and reflective listening, to encourage users to share their feelings and experiences naturally over time.\n",
    "\n",
    "By leveraging principles from psychology such as the Social Penetration Theory, which suggests that gradual and reciprocal sharing of personal information can deepen relationships, and Attachment Theory, which implies that secure relationships can be therapeutic, an open-dialogue chatbot could serve as a first step in alleviating loneliness. The chatbot could provide a non-judgmental, always-available platform for individuals to express themselves and practice social interactions, thereby reducing social anxiety and improving their ability to form deeper human connections.\n",
    "\n",
    "\n",
    "2.2 Features\n",
    "\n",
    "1. Daily Conversations with the User (Social Penetration Theory)\n",
    "- Scrape daily news from pre-determined news sites e.g. Google News, Channel News Asia, Mothership. *(via API or Selenium/BeautifulSoup4/Regex)*\n",
    "    - Summarize news *(via Open AI)*\n",
    "    - Store daily news and add on to library of topics *(via OpenAI memory?)*\n",
    "- Multiple variations of Greeting so as to be human-like *(via pre-loaded data for local context/ OpenAI memory?)*\n",
    "- Initiate conversations (ChatGPT cannot fulfill this as it is reactive only) with scraped news that may be of interest to the User *(via       pre-loaded data use on chat platform Whatsapp/Telegram)*\n",
    "- Maintain User Engagement by asking questions or provide additional options like detailed articles, encouraging user interaction.\n",
    "- Provide a sensible and accurate response when User initiates a conversation or has a query *(Attachment Theory via OpenAI)*\n",
    "\n",
    "2. Detect if User is in need of Therapy\n",
    "- Emotion Recognition: Implement or integrate emotion recognition tools to analyze text for emotional cues.\n",
    "    - 2.1 Text Analysis for Emotion Recognition\n",
    "        - Choose a Library or API: You can use pre-trained models from libraries like text2emotion, nltk, or APIs like IBM Watson Tone Analyzer to analyze emotions from text.\n",
    "    - 2.2 Handling the Emotional Output\n",
    "        - Analyze Results: After detecting emotions from user messages, categorize these emotions to tailor responses (e.g., happy, sad, angry).\n",
    "        - Custom Responses: Depending on the identified emotion, program chatbot to respond appropriately, such as offering words of encouragement for sadness, or sharing calming techniques if anger is detected.\n",
    "\n",
    "3. Dispense preliminary Therapy \n",
    "- Cognitive-Behavioral Therapy (CBT): Program the chatbot to suggest CBT-based techniques depending on the user's emotional state.\n",
    "    - 3.1 Understand CBT Principles\n",
    "        - Research CBT: Understand the basic principles and techniques of CBT that can be integrated into chat interactions, like cognitive restructuring, mindfulness, and problem-solving.\n",
    "    - 3.2 Implementing CBT Techniques\n",
    "        - Scenario-Based Responses: Create a database or a set of if-else conditions to match certain emotional states with CBT-based advice or exercises.\n",
    "- Train Model with therapy dialogues (public and private)\n",
    "\n",
    "4. Additional SQL functionality for Users that are not trained in SQL yet need to extract information i.e. C-suites\n",
    "- "
   ]
  },
  {
   "cell_type": "markdown",
   "metadata": {},
   "source": [
    "## 3. Understand and Integrate all APIs (OpenAI, Whatsapp/Telegram API, Website APIs for scraping)\n",
    "---"
   ]
  },
  {
   "cell_type": "markdown",
   "metadata": {},
   "source": [
    "Platform/APIs:\n",
    "\n",
    "1. OpenAI API for ChatGPT-3.5-turbo (openai API KEY: sk-proj-MeiOyJB7ScDmLJmH3cCyT3BlbkFJDT0bAQWOJNYuhONknlXl)\n",
    "- OpenAI API: Use the OpenAI API to send user inputs to ChatGPT and receive responses.\n",
    "- Customization: Customize responses to align with the psychological principles, like Social Penetration Theory and Attachment Theory.\n",
    "\n",
    "2. In addition to webscraping, News API.org (NEWS API KEY: 6970deb655704fffa4f13819becd2295)\n",
    "\n",
    "3. Whatsapp/Telegram\n",
    "- Authentication: Set up authentication mechanisms to connect your Python application with the chat platform.\n",
    "- Webhooks: Configure webhooks to receive and send messages from/to the chat platform.\n",
    "\n",
    "Development Environment:\n",
    "- Python Environment: Set up a Python environment using tools like venv or conda.\n",
    "- Dependencies: Install necessary libraries, such as flask for creating webhooks, requests for API calls, and openai for integrating ChatGPT."
   ]
  },
  {
   "cell_type": "markdown",
   "metadata": {},
   "source": [
    "## 4. Obtain data for areas without API e.g. news, therapist scripts, SQL\n",
    "---"
   ]
  },
  {
   "cell_type": "markdown",
   "metadata": {},
   "source": [
    "### 1. News scraping (currently only headlines, need to add function to summarize article)\n",
    "\n",
    "**Google News**:\n",
    "import requests\n",
    "from bs4 import BeautifulSoup\n",
    "\n",
    "def scrape_google_news():\n",
    "    url = \"https://news.google.com/news/rss\"\n",
    "    response = requests.get(url)\n",
    "    soup = BeautifulSoup(response.content, features=\"xml\")\n",
    "    headlines = soup.find_all('title')\n",
    "    return [title.text for title in headlines[1:]]  # Skip the first title which is generic\n",
    "\n",
    "google_news_headlines = scrape_google_news()\n",
    "print(google_news_headlines)\n",
    "\n",
    "**Channel News Asia**\n",
    "\n",
    "def scrape_cna_news():\n",
    "    url = \"https://www.channelnewsasia.com/rssfeeds/8395986\"\n",
    "    response = requests.get(url)\n",
    "    soup = BeautifulSoup(response.content, features=\"xml\")\n",
    "    headlines = soup.find_all('title')\n",
    "    return [title.text for title in headlines[1:]]  # Skip the first title which is the title of the feed\n",
    "\n",
    "cna_news_headlines = scrape_cna_news()\n",
    "print(cna_news_headlines)\n",
    "\n",
    "**Mothership**\n",
    "\n",
    "def scrape_mothership_news():\n",
    "    url = \"https://mothership.sg/\"\n",
    "    response = requests.get(url)\n",
    "    soup = BeautifulSoup(response.text, 'html.parser')\n",
    "    articles = soup.find_all('h2', class_='entry-title')  # Class might change; inspect the site to confirm\n",
    "    return [article.text.strip() for article in articles]\n",
    "\n",
    "mothership_news_headlines = scrape_mothership_news()\n",
    "print(mothership_news_headlines)\n",
    "\n",
    "Need to insert fixed time to do so."
   ]
  },
  {
   "cell_type": "markdown",
   "metadata": {},
   "source": [
    "### 2. Therapist dialogues\n",
    "\n",
    "**Kaggle**: \n",
    "\n",
    "\n",
    "\n",
    "**Hugging Face**:\n",
    "\n",
    "[Counsel-Chat Dataset](https://github.com/nbertagnolli/counsel-chat): Counselchat.com is an example of an expert community. It is a platform to help counselors build their reputation and make meaningful contact with potential clients. On the site, therapists respond to questions posed by clients, and users can like responses that they find most helpful.\n",
    "\n",
    "**Reddit**:\n",
    "\n",
    "[Suicide Severity](DOWNLOADED): Dataset for labeling suicidality posts with longitudinal information, using CSSRS questionnaire.\n",
    "\n",
    "**Others**:\n",
    "\n",
    "[HOPE Dataset](https://github.com/LCS2-IIITD/SPARTA_WSDM2022/tree/main#hope-dataset-access-request): Contains 202 dyadic counseling conversation transcripts. Each utterance is tagged with a dialogue-act. This dataset is best suited to design many NLP tasks (apart from dialogue-act classification) for mental health care.\n",
    "\n",
    "[MEMO Dataset](https://github.com/LCS2-IIITD/MEMO#memo-dataset-access-request): MEMO contains counseling session transcripts and their counseling notes (summaries). This dataset is best suited for dialogue summarization tasks in the counseling therapy space.\n",
    "\n",
    "[DAIC-WoZ Dataset](https://dcapswoz.ict.usc.edu/): The DAIC-WOZ dataset comprises voice and text samples from 189 interviewed healthy and control persons and their PHQ-8 depression detection questionnaire. It is commonly used in research works for text-based depression detection and in multi-modal architecture.\n",
    "\n",
    "[PAIR Dataset](https://lit.eecs.umich.edu/downloads.html#PAIR): A dataset consisting of brief interactions between counselors and clients portraying different levels of reflective listening skills. Each interaction is in English and includes a client prompt, i.e., a client’s statement that is usually given to the counseling trainee, paired with counseling responses portraying different levels of reflections skill, i.e., low quality, medium quality, and high quality.\n"
   ]
  },
  {
   "cell_type": "markdown",
   "metadata": {},
   "source": [
    "### 3. SQL functionality\n",
    "\n",
    "1. Information the chatbot needs to access and scope of questions that it can handle:\n",
    "    - Financial data  like profit margins, sales figures\n",
    "    - Performance measurements\n",
    "    - Employee data\n",
    "\n",
    "2. Design Dialogue Flow\n",
    "    - Sketch out potential dialogues the chatbot might have with the users.\n",
    "    - Consider different user intents and how the chatbot should respond. For instance, if someone asks, \"What was our profit last quarter?\", the chatbot needs to understand this request and know how to retrieve this specific data.\n",
    "\n",
    "3. Choose a Development Platform\n",
    "    - Select a platform that allows you to build and integrate a chatbot with SQL databases from the following:\n",
    "        - Microsoft Bot Framework: Good for integration with Microsoft products.\n",
    "        - Google Dialogflow: Offers advanced natural language understanding.\n",
    "        - Rasa: Open source and highly customizable.\n",
    "\n",
    "4. Natural Language Understanding (NLU)\n",
    "    - The chatbot will need an NLU engine to interpret user queries into understandable intents and entities. For instance, \"last quarter’s profit\" should be recognized as a request for financial data pertaining to the previous quarter.\n",
    "\n",
    "5. Backend Integration\n",
    "    - Develop the backend logic where the chatbot translates the recognized intent into an SQL query. This involves:\n",
    "        - Creating SQL queries: Write SQL queries that the chatbot can use to fetch data from your databases.\n",
    "        - Database connection: Ensure secure connections to your database. Use environment variables to handle credentials safely."
   ]
  },
  {
   "cell_type": "markdown",
   "metadata": {},
   "source": [
    "## (Bonus) Features to be considered\n",
    "---"
   ]
  },
  {
   "cell_type": "markdown",
   "metadata": {},
   "source": [
    "1. Location Sharing for Emergencies\n",
    "- Geolocation Integration: Use geolocation APIs to fetch and share the user’s location with emergency services when needed.\n",
    "\n",
    "2. Text to speech and speech to text functionalities\n",
    "- Text-to-speech: Able to send a voice message to User\n",
    "- Speech-to-text: Able to interpret User's voice message and respond\n",
    "\n",
    "3. Image creation (DALL-E)\n",
    "- For more realistic"
   ]
  },
  {
   "cell_type": "markdown",
   "metadata": {},
   "source": []
  }
 ],
 "metadata": {
  "kernelspec": {
   "display_name": "base",
   "language": "python",
   "name": "python3"
  },
  "language_info": {
   "codemirror_mode": {
    "name": "ipython",
    "version": 3
   },
   "file_extension": ".py",
   "mimetype": "text/x-python",
   "name": "python",
   "nbconvert_exporter": "python",
   "pygments_lexer": "ipython3",
   "version": "3.11.5"
  }
 },
 "nbformat": 4,
 "nbformat_minor": 2
}
